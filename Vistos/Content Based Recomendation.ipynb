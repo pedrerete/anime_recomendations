{
 "cells": [
  {
   "cell_type": "code",
   "execution_count": 5,
   "metadata": {
    "application/vnd.databricks.v1+cell": {
     "cellMetadata": {},
     "inputWidgets": {},
     "nuid": "baf75b55-b4b4-4e8e-b00d-df150e0217be",
     "showTitle": false,
     "title": ""
    }
   },
   "outputs": [],
   "source": [
    "#!pip install -U sentence-transformers\n",
    "#!pip install -U pandas\n",
    "#!pip install -U numpy\n",
    "#pip install -U sklearn\n",
    "#!pip install --upgrade pip"
   ]
  },
  {
   "cell_type": "code",
   "execution_count": 6,
   "metadata": {
    "application/vnd.databricks.v1+cell": {
     "cellMetadata": {},
     "inputWidgets": {},
     "nuid": "f957a732-9f4d-4ca7-9a01-49bc558c3000",
     "showTitle": false,
     "title": ""
    }
   },
   "outputs": [],
   "source": [
    "#importamos librerias \"necesarias\"\n",
    "import numpy as np\n",
    "from sentence_transformers import SentenceTransformer\n",
    "import pandas as pd\n",
    "from sklearn.metrics.pairwise import cosine_similarity\n",
    "from sklearn.decomposition import PCA"
   ]
  },
  {
   "cell_type": "code",
   "execution_count": 7,
   "metadata": {
    "application/vnd.databricks.v1+cell": {
     "cellMetadata": {},
     "inputWidgets": {},
     "nuid": "85e66460-237e-49a2-b09c-f57d974d007f",
     "showTitle": false,
     "title": ""
    }
   },
   "outputs": [],
   "source": [
    "data = pd.read_csv('C:/Users/p_mau/Desktop/Recomendation/Vistos/Animes.csv')"
   ]
  },
  {
   "cell_type": "code",
   "execution_count": 8,
   "metadata": {},
   "outputs": [],
   "source": [
    "#Preparamos los datos\n",
    "data.reset_index(drop = True, inplace = True)\n"
   ]
  },
  {
   "cell_type": "code",
   "execution_count": 9,
   "metadata": {
    "application/vnd.databricks.v1+cell": {
     "cellMetadata": {},
     "inputWidgets": {},
     "nuid": "20dfae57-72b1-4315-bff5-807a86432d0d",
     "showTitle": false,
     "title": ""
    }
   },
   "outputs": [],
   "source": [
    "\n",
    "#Nos basamos en la sinopsis por palabra\n",
    "X = np.array(data.SinopsisPalabra)\n",
    "#Nos basamos en los generos\n",
    "Y = np.array(data.Genre)\n",
    "#Nos basamos en la sinopsis por oracion\n",
    "Z = np.array(data.Sinopsis)\n",
    "text_data = X\n",
    "text_data1 = Y\n",
    "text_data2 = Z\n",
    "model = SentenceTransformer('distilbert-base-nli-mean-tokens')\n",
    "embeddings = model.encode(text_data, show_progress_bar=False)\n",
    "embeddings1 = model.encode(text_data1, show_progress_bar=False)\n",
    "embeddings2 = model.encode(text_data2, show_progress_bar=False)\n",
    "\n",
    "X = np.array(embeddings)\n",
    "Y = np.array(embeddings1)\n",
    "Z = np.array(embeddings2)\n"
   ]
  },
  {
   "cell_type": "code",
   "execution_count": 10,
   "metadata": {
    "application/vnd.databricks.v1+cell": {
     "cellMetadata": {},
     "inputWidgets": {},
     "nuid": "8fd2004a-52d7-4897-bcbc-253646c8dd05",
     "showTitle": false,
     "title": ""
    }
   },
   "outputs": [],
   "source": [
    "#metodo que da la recomenacion de los 3 mas cercanos en el cosine\n",
    "def give_recommendations(index,print_recommendation = False,print_recommendation_plots= False,print_genres =False):\n",
    "  used_cos_sim_data = pd.DataFrame(cosine_similarity(X))\n",
    "  used_cos_sim_data.pop(index)\n",
    "  index_recomm =used_cos_sim_data.loc[index].sort_values(ascending=False).index.tolist()[1:4] #recomendaciones\n",
    "  movies_recomm =  data['Title'].loc[index_recomm].values\n",
    "  example = data['Title'].loc[index]\n",
    "  result = {'Anime':example, '1st recomm':movies_recomm[0],'2nd recomm':movies_recomm[1],'3rd recomm':movies_recomm[2]}\n",
    "  return result\n",
    "def give_recommendations1(index,print_recommendation = False,print_recommendation_plots= False,print_genres =False):\n",
    "  used_cos_sim_data = pd.DataFrame(cosine_similarity(Y))\n",
    "  used_cos_sim_data.pop(index)\n",
    "  index_recomm =used_cos_sim_data.loc[index].sort_values(ascending=False).index.tolist()[1:4] #recomendaciones\n",
    "  movies_recomm =  data['Title'].loc[index_recomm].values\n",
    "  example = data['Title'].loc[index]\n",
    "  result = {'Anime':example, '1st recomm':movies_recomm[0],'2nd recomm':movies_recomm[1],'3rd recomm':movies_recomm[2]}\n",
    "  return result\n",
    "def give_recommendations2(index,print_recommendation = False,print_recommendation_plots= False,print_genres =False):\n",
    "  used_cos_sim_data = pd.DataFrame(cosine_similarity(Z))\n",
    "  used_cos_sim_data.pop(index)\n",
    "  index_recomm =used_cos_sim_data.loc[index].sort_values(ascending=False).index.tolist()[1:4] #recomendaciones\n",
    "  movies_recomm =  data['Title'].loc[index_recomm].values\n",
    "  example = data['Title'].loc[index]\n",
    "  result = {'Anime':example, '1st recomm':movies_recomm[0],'2nd recomm':movies_recomm[1],'3rd recomm':movies_recomm[2]}\n",
    "  return result"
   ]
  },
  {
   "cell_type": "code",
   "execution_count": 11,
   "metadata": {
    "application/vnd.databricks.v1+cell": {
     "cellMetadata": {},
     "inputWidgets": {},
     "nuid": "cb1f7af9-797f-4a0a-abb1-41b5791785a3",
     "showTitle": false,
     "title": ""
    }
   },
   "outputs": [
    {
     "data": {
      "text/plain": [
       "303"
      ]
     },
     "execution_count": 11,
     "metadata": {},
     "output_type": "execute_result"
    }
   ],
   "source": [
    "x = data.count()\n",
    "\n",
    "UpLimit = x['ID']\n",
    "UpLimit"
   ]
  },
  {
   "cell_type": "code",
   "execution_count": 12,
   "metadata": {
    "application/vnd.databricks.v1+cell": {
     "cellMetadata": {},
     "inputWidgets": {},
     "nuid": "2ac43d12-cd04-4f86-b11e-ca8d8d525dab",
     "showTitle": false,
     "title": ""
    }
   },
   "outputs": [],
   "source": [
    "#Corremos la funcion por cada uno\n",
    "arreglo=[]\n",
    "arreglo1=[]\n",
    "arreglo2=[]\n",
    "for i in range(0,UpLimit,1):\n",
    "  resultado = give_recommendations(i,True,False,False)\n",
    "  resultado1 = give_recommendations1(i,True,False,False)\n",
    "  resultado2 = give_recommendations2(i,True,False,False)\n",
    "  arreglo.append(resultado)\n",
    "  arreglo1.append(resultado1)\n",
    "  arreglo2.append(resultado2)"
   ]
  },
  {
   "cell_type": "code",
   "execution_count": 13,
   "metadata": {
    "application/vnd.databricks.v1+cell": {
     "cellMetadata": {},
     "inputWidgets": {},
     "nuid": "b1bffb3b-53a3-4760-a0db-12dcb73ea8aa",
     "showTitle": false,
     "title": ""
    }
   },
   "outputs": [],
   "source": [
    "#Tranformamos a dataframe\n",
    "df = pd.DataFrame(arreglo)\n",
    "df1 = pd.DataFrame(arreglo1)\n",
    "df2 = pd.DataFrame(arreglo2)"
   ]
  },
  {
   "cell_type": "code",
   "execution_count": 14,
   "metadata": {},
   "outputs": [],
   "source": [
    "\n",
    "#lo guardamos\n",
    "df.to_csv('C:/Users/p_mau/Desktop/Recomendation/Vistos/Recom_Palabra.csv', index = False, sep=\",\" )\n",
    "df1.to_csv('C:/Users/p_mau/Desktop/Recomendation/Vistos/Recom_Genero.csv', index = False, sep=\",\" )\n",
    "df2.to_csv('C:/Users/p_mau/Desktop/Recomendation/Vistos/Recom_Oracion.csv', index = False, sep=\",\" )"
   ]
  }
 ],
 "metadata": {
  "application/vnd.databricks.v1+notebook": {
   "dashboards": [],
   "language": "python",
   "notebookMetadata": {
    "pythonIndentUnit": 2
   },
   "notebookName": "Content Based Recomendation",
   "notebookOrigID": 2831764750789204,
   "widgets": {}
  },
  "kernelspec": {
   "display_name": "Python 3.10.10 64-bit (microsoft store)",
   "language": "python",
   "name": "python3"
  },
  "language_info": {
   "codemirror_mode": {
    "name": "ipython",
    "version": 3
   },
   "file_extension": ".py",
   "mimetype": "text/x-python",
   "name": "python",
   "nbconvert_exporter": "python",
   "pygments_lexer": "ipython3",
   "version": "3.10.10"
  },
  "vscode": {
   "interpreter": {
    "hash": "fc72549f0a1f9445c45dde033697fce6a3cfe2434aa63e5158dde8da80c6e94b"
   }
  }
 },
 "nbformat": 4,
 "nbformat_minor": 1
}
